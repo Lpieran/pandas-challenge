{
 "cells": [
  {
   "cell_type": "code",
   "execution_count": null,
   "metadata": {},
   "outputs": [],
   "source": [
    "import pandas as pd\n",
    "from pathlib import Path"
   ]
  },
  {
   "cell_type": "code",
   "execution_count": null,
   "metadata": {},
   "outputs": [],
   "source": [
    "# Read CSV file into DataFrame\n",
    "school_data_csv = Path(\"Resources/schools_complete.csv\")\n",
    "student_data_csv = Path(\"Resources/students_complete.csv\")\n",
    "\n",
    "#Read school and student data and store in Panda Dataframes\n",
    "school_data = pd.read_csv(school_data_csv)\n",
    "student_data = pd.read_csv(student_data_csv)\n",
    "\n",
    "#Merging dataframes\n",
    "\n",
    "school_data_complete = pd.merge(student_data, school_data, how=\"left\", on=[\"school_name\", \"school_name\"])\n",
    "school_data_complete.head()\n"
   ]
  },
  {
   "cell_type": "markdown",
   "metadata": {},
   "source": [
    "# Total Number of Unique Schools"
   ]
  },
  {
   "cell_type": "code",
   "execution_count": null,
   "metadata": {},
   "outputs": [],
   "source": [
    "# Total number of unique schools\n",
    "\n",
    "num_unique_schools = school_data_complete['school_name'].nunique()\n",
    "num_unique_schools"
   ]
  },
  {
   "cell_type": "markdown",
   "metadata": {},
   "source": [
    "# Total Students"
   ]
  },
  {
   "cell_type": "code",
   "execution_count": null,
   "metadata": {},
   "outputs": [],
   "source": [
    "#Calculate total students\n",
    "total_students = len(school_data_complete)\n",
    "total_students\n"
   ]
  },
  {
   "cell_type": "markdown",
   "metadata": {},
   "source": [
    "# Total Budget"
   ]
  },
  {
   "cell_type": "code",
   "execution_count": null,
   "metadata": {},
   "outputs": [],
   "source": [
    "#Calculate total budget\n",
    "total_budget = school_data['budget'].sum()\n",
    "total_budget"
   ]
  },
  {
   "cell_type": "markdown",
   "metadata": {},
   "source": [
    "# Average Math Score"
   ]
  },
  {
   "cell_type": "code",
   "execution_count": null,
   "metadata": {},
   "outputs": [],
   "source": [
    "#Calculate the average math score\n",
    "average_math_score = school_data_complete[\"math_score\"].mean()\n",
    "average_math_score"
   ]
  },
  {
   "cell_type": "markdown",
   "metadata": {},
   "source": [
    "# Average Reading Score"
   ]
  },
  {
   "cell_type": "code",
   "execution_count": null,
   "metadata": {},
   "outputs": [],
   "source": [
    "#Calculate the average reading score\n",
    "average_reading_score = school_data_complete[\"reading_score\"].mean()\n",
    "average_reading_score"
   ]
  },
  {
   "cell_type": "markdown",
   "metadata": {},
   "source": [
    "# Percentage of students who passed math (score greater or equal than 70)"
   ]
  },
  {
   "cell_type": "code",
   "execution_count": null,
   "metadata": {},
   "outputs": [],
   "source": [
    "#Calculate the percentage of students who passed math (math scores greather than or equal to 70)\n",
    "\n",
    "#Students with (greater than or equal to 70 / total students) (29370/39170*100) = 74.98%\n",
    "\n",
    "passing_math = student_data[\"math_score\"] >= 70\n",
    "percent_passing_math = passing_math.mean() * 100\n",
    "percent_passing_math"
   ]
  },
  {
   "cell_type": "markdown",
   "metadata": {},
   "source": [
    "# Percentage of students who passed reading (score greater or equal than 70)"
   ]
  },
  {
   "cell_type": "code",
   "execution_count": null,
   "metadata": {},
   "outputs": [],
   "source": [
    "#Calculate the percentage of students who passed reading\n",
    "\n",
    "#Students with (greater than or equal to 70 / total students) (33610/39170*100) = 85.81%\n",
    "\n",
    "passing_reading = student_data[\"reading_score\"] >= 70\n",
    "percent_passing_reading = passing_reading.mean() * 100\n",
    "\n",
    "percent_passing_reading "
   ]
  },
  {
   "cell_type": "markdown",
   "metadata": {},
   "source": [
    "# Percentage of students who passed both math and reading"
   ]
  },
  {
   "cell_type": "code",
   "execution_count": null,
   "metadata": {},
   "outputs": [],
   "source": [
    "# Create a new column in the DataFrame called \"Passing Both\"\n",
    "school_data_complete[\"Passing Both\"] = (school_data_complete[\"math_score\"] >= 70) & (school_data_complete[\"reading_score\"] >= 70)\n",
    "\n",
    "# Calculate the percentage of students who passed both math and reading\n",
    "passing_both_percent = school_data_complete[\"Passing Both\"].mean() * 100\n",
    "\n",
    "# Print the percentage of students who passed both math and reading\n",
    "passing_both_percent\n"
   ]
  },
  {
   "cell_type": "code",
   "execution_count": null,
   "metadata": {},
   "outputs": [],
   "source": [
    "# District Summary\n",
    "\n",
    "district_summary = pd.DataFrame({\n",
    "    \"Total Schools\": [num_unique_schools],\n",
    "    \"Total Students\": [total_students],\n",
    "    \"Total Budget\": [total_budget],\n",
    "    \"Average Math Score\": [average_math_score],\n",
    "    \"Average Reading Score\": [average_reading_score],\n",
    "    \"% Passing Math\": [percent_passing_math],\n",
    "    \"% Passing Reading\": [percent_passing_reading],\n",
    "    \"% Overall Passing Rate\": [passing_both_percent]\n",
    "}).set_index(\"Total Schools\")\n",
    "\n",
    "district_summary[\"Total Students\"] = district_summary[\"Total Students\"].map(\"{:,}\".format)\n",
    "district_summary[\"Total Budget\"] = district_summary[\"Total Budget\"].map(\"${:,.2f}\".format)\n",
    "\n",
    "# Display the DataFrame\n",
    "district_summary\n"
   ]
  },
  {
   "cell_type": "markdown",
   "metadata": {},
   "source": [
    "# School type"
   ]
  },
  {
   "cell_type": "code",
   "execution_count": null,
   "metadata": {
    "scrolled": true
   },
   "outputs": [],
   "source": [
    "#Separate by school type\n",
    "school_types = school_data.set_index([\"school_name\"])[\"type\"]\n",
    "\n",
    "# Convert to aDataFrame\n",
    "df_school_types = pd.DataFrame(school_types)\n",
    "\n",
    "# Display the DataFrame\n",
    "df_school_types"
   ]
  },
  {
   "cell_type": "markdown",
   "metadata": {},
   "source": [
    "# Students per School"
   ]
  },
  {
   "cell_type": "code",
   "execution_count": null,
   "metadata": {},
   "outputs": [],
   "source": [
    "# Count the number of students per school\n",
    "per_school_counts = school_data_complete[\"school_name\"].value_counts()\n",
    "print(per_school_counts)"
   ]
  },
  {
   "cell_type": "markdown",
   "metadata": {},
   "source": [
    "# Total School Budget and Per Capita Spending"
   ]
  },
  {
   "cell_type": "code",
   "execution_count": null,
   "metadata": {},
   "outputs": [],
   "source": [
    "#Calculate the total school budget and per capita spending\n",
    "\n",
    "# Calculate total budget\n",
    "total_budget = school_data_complete[\"budget\"].unique().sum()\n",
    "\n",
    "# Calculate total student count\n",
    "total_students = school_data_complete[\"Student ID\"].count()\n",
    "\n",
    "# Calculate per capita spending\n",
    "per_capita_spending = total_budget / total_students\n",
    "\n",
    "print(f\"Total School Budget: ${total_budget:,.2f}\")\n",
    "print(f\"Total Students: {total_students:,}\")\n",
    "print(f\"Per Capita Spending: ${per_capita_spending:,.2f}\")"
   ]
  },
  {
   "cell_type": "markdown",
   "metadata": {},
   "source": [
    "# Calculate the Average Test Scores per School"
   ]
  },
  {
   "cell_type": "code",
   "execution_count": null,
   "metadata": {},
   "outputs": [],
   "source": [
    "#Per School Average scores\n",
    "\n",
    "avg_scores = school_data_complete.groupby([\"school_name\"]).mean()[[\"math_score\", \"reading_score\"]]\n",
    "\n",
    "avg_scores"
   ]
  },
  {
   "cell_type": "markdown",
   "metadata": {},
   "source": [
    "# Number of schools with math scores of 70 or higher"
   ]
  },
  {
   "cell_type": "code",
   "execution_count": null,
   "metadata": {},
   "outputs": [],
   "source": [
    "passing_math = student_data[\"math_score\"] >= 70\n",
    "schools_passing_math = passing_math.groupby(student_data[\"school_name\"]).any().sum()\n",
    "schools_passing_math"
   ]
  },
  {
   "cell_type": "markdown",
   "metadata": {},
   "source": [
    "# Number of schools with reading scores of 70 or higher"
   ]
  },
  {
   "cell_type": "code",
   "execution_count": null,
   "metadata": {},
   "outputs": [],
   "source": [
    "passing_reading = student_data[\"reading_score\"] >= 70\n",
    "schools_passing_reading = passing_reading.groupby(student_data[\"school_name\"]).any().sum()\n",
    "schools_passing_reading"
   ]
  },
  {
   "cell_type": "markdown",
   "metadata": {},
   "source": [
    "# Number of schools with math and reading scores of 70 or higher"
   ]
  },
  {
   "cell_type": "code",
   "execution_count": null,
   "metadata": {
    "scrolled": false
   },
   "outputs": [],
   "source": [
    "passing_math_and_reading = school_data_complete[(school_data_complete[\"reading_score\"] >= 70) & (school_data_complete[\"math_score\"] >= 70)]\n",
    "num_schools_passing_math_and_reading = passing_math_and_reading.groupby(\"school_name\")[\"Student ID\"].nunique().count()\n",
    "print(\"Number of schools where students passed both math and reading:\", num_schools_passing_math_and_reading)\n"
   ]
  },
  {
   "cell_type": "code",
   "execution_count": null,
   "metadata": {},
   "outputs": [],
   "source": [
    "#Calculate the percentage of students passing math and reading at each school\n",
    "passing_math = school_data_complete[school_data_complete[\"math_score\"] >= 70].groupby([\"school_name\"])[\"math_score\"].count() / school_data_complete.groupby([\"school_name\"])[\"Student ID\"].count() * 100\n",
    "passing_reading = school_data_complete[school_data_complete[\"reading_score\"] >= 70].groupby([\"school_name\"])[\"reading_score\"].count() / school_data_complete.groupby([\"school_name\"])[\"Student ID\"].count() * 100\n",
    "\n",
    "# Aassing math and reading percentages to the avg_scores dataframe\n",
    "avg_scores[\"% Passing Math\"] = passing_math.round(2)\n",
    "avg_scores[\"% Passing Reading\"] = passing_reading.round(2)\n",
    "\n",
    "# Overall passing percentage at each school\n",
    "overall_passing = school_data_complete[(school_data_complete[\"math_score\"] >= 70) & (school_data_complete[\"reading_score\"] >= 70)].groupby([\"school_name\"])[\"Student ID\"].count() / school_data_complete.groupby([\"school_name\"])[\"Student ID\"].count() * 100\n",
    "\n",
    "# Overall passing percentage to the avg_scores dataframe\n",
    "avg_scores[\"% Overall Passing\"] = overall_passing.round(2)\n",
    "\n",
    "# Display the updated avg_scores dataframe\n",
    "print(avg_scores)"
   ]
  },
  {
   "cell_type": "code",
   "execution_count": null,
   "metadata": {},
   "outputs": [],
   "source": [
    "# Calculate the total school budget, per student budget, average math and reading scores, and percentage of students passing math, reading, and both\n",
    "total_school_budget = school_data_complete.groupby(\"school_name\")[\"budget\"].first()\n",
    "per_student_budget = total_school_budget / per_school_counts\n",
    "\n",
    "avg_math_scores = school_data_complete.groupby(\"school_name\")[\"math_score\"].mean()\n",
    "avg_reading_scores = school_data_complete.groupby(\"school_name\")[\"reading_score\"].mean()\n",
    "num_passing_math = school_data_complete[school_data_complete[\"math_score\"] >= 70].groupby(\"school_name\")[\"Student ID\"].count()\n",
    "percent_passing_math = num_passing_math / per_school_counts * 100\n",
    "num_passing_reading = school_data_complete[school_data_complete[\"reading_score\"] >= 70].groupby(\"school_name\")[\"Student ID\"].count()\n",
    "percent_passing_reading = num_passing_reading / per_school_counts * 100\n",
    "num_passing_both = passing_math_and_reading.groupby(\"school_name\")[\"Student ID\"].count()\n",
    "percent_passing_both = num_passing_both / per_school_counts * 100\n",
    "\n",
    "# Create a DataFrame with the calculated metrics\n",
    "per_school_summary = pd.DataFrame({\n",
    "    \"Type\": school_types,\n",
    "    \"Students Per School\": per_school_counts,\n",
    "    \"Total School Budget\": total_school_budget,\n",
    "    \"Per Student Budget\": per_student_budget,\n",
    "    \"Average Math Score\": avg_math_scores,\n",
    "    \"Average Reading Score\": avg_reading_scores,\n",
    "    \"% Passing Math\": percent_passing_math,\n",
    "    \"% Passing Reading\": percent_passing_reading,\n",
    "    \"% Overall Passing\": percent_passing_both\n",
    "})\n",
    "\n",
    "# Format the \"Total School Budget\" and \"Per Student Budget\" columns with two decimal places\n",
    "per_school_summary[\"Students Per School\"] = per_school_summary[\"Students Per School\"].map(\"{:,}\".format)\n",
    "per_school_summary[\"Total School Budget\"] = per_school_summary[\"Total School Budget\"].map(\"${:,.2f}\".format)\n",
    "per_school_summary[\"Per Student Budget\"] = per_school_summary[\"Per Student Budget\"].map(\"${:,}\".format)\n",
    "per_school_summary[\"Average Math Score\"] = per_school_summary[\"Average Math Score\"].map(\"{:,.2f}\".format)\n",
    "per_school_summary[\"Average Reading Score\"] = per_school_summary[\"Average Reading Score\"].map(\"{:,.2f}\".format)\n",
    "per_school_summary[\"% Passing Math\"] = per_school_summary[\"% Passing Math\"].map(\"{:,.2f}\".format)\n",
    "per_school_summary[\"% Passing Reading\"] = per_school_summary[\"% Passing Reading\"].map(\"{:,.2f}\".format)\n",
    "per_school_summary[\"% Overall Passing\"] = per_school_summary[\"% Overall Passing\"].map(\"{:,.2f}\".format)\n",
    "\n",
    "per_school_summary\n"
   ]
  },
  {
   "cell_type": "code",
   "execution_count": null,
   "metadata": {},
   "outputs": [],
   "source": [
    "# Sort the schools by `% Overall Passing` in descending order and display the top 5 rows.\n",
    "top_schools = per_school_summary.sort_values(\"% Overall Passing\", ascending=False)\n",
    "top_schools.head(5)\n"
   ]
  },
  {
   "cell_type": "code",
   "execution_count": null,
   "metadata": {},
   "outputs": [],
   "source": [
    "# Sort the schools by `% Overall Passing` in ascending order and display the top 5 rows.\n",
    "bottom_schools = per_school_summary.sort_values(\"% Overall Passing\", ascending=True)\n",
    "bottom_schools.head(5)"
   ]
  },
  {
   "cell_type": "code",
   "execution_count": null,
   "metadata": {},
   "outputs": [],
   "source": [
    "# Use the code provided to separate the data by grade\n",
    "ninth_graders = school_data_complete[(school_data_complete[\"grade\"] == \"9th\")]\n",
    "tenth_graders = school_data_complete[(school_data_complete[\"grade\"] == \"10th\")]\n",
    "eleventh_graders = school_data_complete[(school_data_complete[\"grade\"] == \"11th\")]\n",
    "twelfth_graders = school_data_complete[(school_data_complete[\"grade\"] == \"12th\")]\n",
    "\n",
    "# Group by \"school_name\" and take the mean of each.\n",
    "ninth_graders_scores = ninth_graders.groupby(\"school_name\")[\"math_score\"].mean()\n",
    "tenth_graders_scores = tenth_graders.groupby(\"school_name\")[\"math_score\"].mean()\n",
    "eleventh_graders_scores = eleventh_graders.groupby(\"school_name\")[\"math_score\"].mean()\n",
    "twelfth_graders_scores = twelfth_graders.groupby(\"school_name\")[\"math_score\"].mean()\n",
    "\n",
    "# Use the code to select only the `math_score`.\n",
    "ninth_grade_math_scores = ninth_graders_scores\n",
    "tenth_grade_math_scores = tenth_graders_scores\n",
    "eleventh_grade_math_scores = eleventh_graders_scores\n",
    "twelfth_grade_math_scores = twelfth_graders_scores\n",
    "\n",
    "# Combine each of the scores above into single DataFrame called `math_scores_by_grade`\n",
    "math_scores_by_grade = pd.DataFrame({\n",
    "    \"9th\": ninth_grade_math_scores,\n",
    "    \"10th\": tenth_grade_math_scores,\n",
    "    \"11th\": eleventh_grade_math_scores,\n",
    "    \"12th\": twelfth_grade_math_scores\n",
    "})\n",
    "\n",
    "# Minor data wrangling\n",
    "math_scores_by_grade.index.name = None\n",
    "\n",
    "# Display the DataFrame\n",
    "math_scores_by_grade\n"
   ]
  },
  {
   "cell_type": "code",
   "execution_count": null,
   "metadata": {},
   "outputs": [],
   "source": [
    "# Use the code provided to separate the data by grade\n",
    "ninth_graders = school_data_complete[(school_data_complete[\"grade\"] == \"9th\")]\n",
    "tenth_graders = school_data_complete[(school_data_complete[\"grade\"] == \"10th\")]\n",
    "eleventh_graders = school_data_complete[(school_data_complete[\"grade\"] == \"11th\")]\n",
    "twelfth_graders = school_data_complete[(school_data_complete[\"grade\"] == \"12th\")]\n",
    "\n",
    "# Group by \"school_name\" and take the mean of each.\n",
    "ninth_graders_scores = ninth_graders.groupby(\"school_name\")[\"reading_score\"].mean()\n",
    "tenth_graders_scores = tenth_graders.groupby(\"school_name\")[\"reading_score\"].mean()\n",
    "eleventh_graders_scores = eleventh_graders.groupby(\"school_name\")[\"reading_score\"].mean()\n",
    "twelfth_graders_scores = twelfth_graders.groupby(\"school_name\")[\"reading_score\"].mean()\n",
    "\n",
    "# Use the code to select only the `reading_score`.\n",
    "ninth_grade_reading_scores = ninth_graders_scores\n",
    "tenth_grader_reading_scores = tenth_graders_scores\n",
    "eleventh_grader_reading_scores = eleventh_graders_scores\n",
    "twelfth_grader_reading_scores = twelfth_graders_scores\n",
    "\n",
    "# Combine each of the scores above into single DataFrame called `reading_scores_by_grade`\n",
    "reading_scores_by_grade = pd.DataFrame({\n",
    "    \"9th\": ninth_grade_reading_scores,\n",
    "    \"10th\": tenth_grader_reading_scores,\n",
    "    \"11th\": eleventh_grader_reading_scores,\n",
    "    \"12th\": twelfth_grader_reading_scores\n",
    "})\n",
    "\n",
    "# Minor data wrangling\n",
    "reading_scores_by_grade = reading_scores_by_grade[[\"9th\", \"10th\", \"11th\", \"12th\"]]\n",
    "reading_scores_by_grade.index.name = None\n",
    "\n",
    "# Display the DataFrame\n",
    "reading_scores_by_grade\n"
   ]
  },
  {
   "cell_type": "code",
   "execution_count": null,
   "metadata": {},
   "outputs": [],
   "source": [
    "# Establish the bins \n",
    "spending_bins = [0, 585, 630, 645, 680]\n",
    "labels = [\"<$585\", \"$585-630\", \"$630-645\", \"$645-680\"]"
   ]
  },
  {
   "cell_type": "code",
   "execution_count": null,
   "metadata": {
    "scrolled": true
   },
   "outputs": [],
   "source": [
    "# Create a summary dataframe for each school\n",
    "per_school_summary = pd.DataFrame({\n",
    "    \"Type\": school_types,\n",
    "    \"Students Per School\": per_school_counts,\n",
    "    \"Total School Budget\": total_school_budget,\n",
    "    \"Per Student Budget\": per_student_budget,\n",
    "    \"Average Math Score\": avg_math_scores,\n",
    "    \"Average Reading Score\": avg_reading_scores,\n",
    "    \"% Passing Math\": percent_passing_math,\n",
    "    \"% Passing Reading\": percent_passing_reading,\n",
    "    \"% Overall Passing\": percent_passing_both})\n",
    "    \n",
    "# Establish the spending bins and group names\n",
    "spending_bins = [0, 585, 630, 645, 680]\n",
    "group_names = [\"<$585\", \"$585-630\", \"$630-645\", \"$645-680\"]\n",
    "\n",
    "# Categorize spending based on the bins using pd.cut()\n",
    "per_school_summary[\"Spending Ranges (Per Student)\"] = pd.cut(per_student_budget, spending_bins, labels=group_names)\n",
    "\n",
    "# Create a new dataframe by copying the per_school_summary dataframe\n",
    "school_spending_df = per_school_summary.copy()\n",
    "\n",
    "# Print the first five rows of the school_spending_df dataframe\n",
    "print(school_spending_df.head())\n"
   ]
  },
  {
   "cell_type": "code",
   "execution_count": null,
   "metadata": {},
   "outputs": [],
   "source": [
    "# Use `pd.cut` to categorize spending based on the bins.\n",
    "school_spending_df[\"Spending Ranges (Per Student)\"] = pd.cut(school_spending_df[\"Per Student Budget\"], spending_bins, labels=labels)\n",
    "school_spending_df.head()"
   ]
  },
  {
   "cell_type": "code",
   "execution_count": null,
   "metadata": {},
   "outputs": [],
   "source": [
    "# Calculate averages for the desired columns. \n",
    "spending_math_scores = school_spending_df.groupby([\"Spending Ranges (Per Student)\"]).mean()[\"Average Math Score\"]\n",
    "spending_reading_scores = school_spending_df.groupby([\"Spending Ranges (Per Student)\"]).mean()[\"Average Reading Score\"]\n",
    "spending_passing_math = school_spending_df.groupby([\"Spending Ranges (Per Student)\"]).mean()[\"% Passing Math\"]\n",
    "spending_passing_reading = school_spending_df.groupby([\"Spending Ranges (Per Student)\"]).mean()[\"% Passing Reading\"]\n",
    "overall_passing_spending = school_spending_df.groupby([\"Spending Ranges (Per Student)\"]).mean()[\"% Overall Passing\"]\n",
    "print(per_school_summary.head())"
   ]
  },
  {
   "cell_type": "code",
   "execution_count": null,
   "metadata": {},
   "outputs": [],
   "source": [
    "spending_summary = pd.DataFrame({\n",
    "    \"Average Math Score\": spending_math_scores,\n",
    "    \"Average Reading Score\": spending_reading_scores,\n",
    "    \"% Passing Math\": spending_passing_math,\n",
    "    \"% Passing Reading\": spending_passing_reading,\n",
    "    \"% Overall Passing\": overall_passing_spending\n",
    "})\n",
    "spending_summary\n"
   ]
  },
  {
   "cell_type": "code",
   "execution_count": null,
   "metadata": {},
   "outputs": [],
   "source": [
    "# Establish the bins.\n",
    "size_bins = [0, 1000, 2000, 5000]\n",
    "labels = [\"Small (<1000)\", \"Medium (1000-2000)\", \"Large (2000-5000)\"]"
   ]
  },
  {
   "cell_type": "code",
   "execution_count": null,
   "metadata": {},
   "outputs": [],
   "source": [
    "# Establish the bins.\n",
    "size_bins = [0, 1000, 2000, 5000]\n",
    "labels = [\"Small (<1000)\", \"Medium (1000-2000)\", \"Large (2000-5000)\"]\n",
    "\n",
    "# Categorize the schools based on size bins\n",
    "per_school_summary[\"School Size\"] = pd.cut(per_school_summary[\"Students Per School\"], size_bins, labels=labels)\n",
    "\n",
    "# Print the head of the resulting dataframe\n",
    "print(per_school_summary.head())\n"
   ]
  },
  {
   "cell_type": "code",
   "execution_count": null,
   "metadata": {},
   "outputs": [],
   "source": [
    "# Calculate averages for the desired columns. \n",
    "size_math_scores = per_school_summary.groupby([\"School Size\"]).mean()[\"Average Math Score\"]\n",
    "size_reading_scores = per_school_summary.groupby([\"School Size\"]).mean()[\"Average Reading Score\"]\n",
    "size_passing_math = per_school_summary.groupby([\"School Size\"]).mean()[\"% Passing Math\"]\n",
    "size_passing_reading = per_school_summary.groupby([\"School Size\"]).mean()[\"% Passing Reading\"]\n",
    "size_overall_passing = per_school_summary.groupby([\"School Size\"]).mean()[\"% Overall Passing\"]\n",
    "\n",
    "# Print the head of each variable as a DataFrame\n",
    "print(size_math_scores.head())\n",
    "print(size_reading_scores.head())\n",
    "print(size_passing_math.head())\n",
    "print(size_passing_reading.head())\n",
    "print(size_overall_passing.head())"
   ]
  },
  {
   "cell_type": "code",
   "execution_count": null,
   "metadata": {},
   "outputs": [],
   "source": [
    "# Create a DataFrame called `size_summary` that breaks down school performance based on school size (small, medium, or large).\n",
    "size_summary = pd.DataFrame({\n",
    "    \"Average Math Score\": size_math_scores,\n",
    "    \"Average Reading Score\": size_reading_scores,\n",
    "    \"% Passing Math\": size_passing_math,\n",
    "    \"% Passing Reading\": size_passing_reading,\n",
    "    \"% Overall Passing\": size_overall_passing\n",
    "})\n",
    "\n",
    "# Format the columns\n",
    "size_summary[\"Average Math Score\"] = size_summary[\"Average Math Score\"].map(\"{:.1f}\".format)\n",
    "size_summary[\"Average Reading Score\"] = size_summary[\"Average Reading Score\"].map(\"{:.1f}\".format)\n",
    "size_summary[\"% Passing Math\"] = size_summary[\"% Passing Math\"].map(\"{:.0f}%\".format)\n",
    "size_summary[\"% Passing Reading\"] = size_summary[\"% Passing Reading\"].map(\"{:.0f}%\".format)\n",
    "size_summary[\"% Overall Passing\"] = size_summary[\"% Overall Passing\"].map(\"{:.0f}%\".format)\n",
    "\n",
    "# Display results\n",
    "size_summary.head()\n"
   ]
  },
  {
   "cell_type": "code",
   "execution_count": null,
   "metadata": {},
   "outputs": [],
   "source": [
    "# Group the per_school_summary DataFrame by \"School Type\" and average the results.\n",
    "type_summary = per_school_summary.groupby(\"Type\")\n",
    "\n",
    "# Calculate the averages for math scores, reading scores, passing math, passing reading, and overall passing.\n",
    "type_math_scores = type_summary[\"Average Math Score\"].mean()\n",
    "type_reading_scores = type_summary[\"Average Reading Score\"].mean()\n",
    "type_passing_math = type_summary[\"% Passing Math\"].mean()\n",
    "type_passing_reading = type_summary[\"% Passing Reading\"].mean()\n",
    "type_overall_passing = type_summary[\"% Overall Passing\"].mean()\n",
    "\n",
    "# Create a new DataFrame for the results by school type\n",
    "type_summary_df = pd.DataFrame({\n",
    "    \"Average Math Score\": type_math_scores,\n",
    "    \"Average Reading Score\": type_reading_scores,\n",
    "    \"% Passing Math\": type_passing_math,\n",
    "    \"% Passing Reading\": type_passing_reading,\n",
    "    \"% Overall Passing\": type_overall_passing\n",
    "})\n",
    "\n",
    "# Format the columns\n",
    "type_summary_df[\"Average Math Score\"] = type_summary_df[\"Average Math Score\"].map(\"{:.1f}\".format)\n",
    "type_summary_df[\"Average Reading Score\"] = type_summary_df[\"Average Reading Score\"].map(\"{:.1f}\".format)\n",
    "type_summary_df[\"% Passing Math\"] = type_summary_df[\"% Passing Math\"].map(\"{:.0f}%\".format)\n",
    "type_summary_df[\"% Passing Reading\"] = type_summary_df[\"% Passing Reading\"].map(\"{:.0f}%\".format)\n",
    "type_summary_df[\"% Overall Passing\"] = type_summary_df[\"% Overall Passing\"].map(\"{:.0f}%\".format)\n",
    "\n",
    "# Print the DataFrame\n",
    "print(type_summary_df)\n"
   ]
  },
  {
   "cell_type": "code",
   "execution_count": null,
   "metadata": {},
   "outputs": [],
   "source": [
    "# Group the per_school_summary DataFrame by \"School Type\" and average the results.\n",
    "type_summary = per_school_summary.groupby(\"Type\").mean()\n",
    "\n",
    "# Remove the unnecessary columns from the DataFrame.\n",
    "type_summary = type_summary[[\"Average Math Score\", \"Average Reading Score\", \"% Passing Math\", \"% Passing Reading\", \"% Overall Passing\"]]\n",
    "\n",
    "# Format the columns.\n",
    "type_summary[\"Average Math Score\"] = type_summary[\"Average Math Score\"].map(\"{:.2f}\".format)\n",
    "type_summary[\"Average Reading Score\"] = type_summary[\"Average Reading Score\"].map(\"{:.2f}\".format)\n",
    "type_summary[\"% Passing Math\"] = type_summary[\"% Passing Math\"].map(\"{:.2f}\".format)\n",
    "type_summary[\"% Passing Reading\"] = type_summary[\"% Passing Reading\"].map(\"{:.2f}\".format)\n",
    "type_summary[\"% Overall Passing\"] = type_summary[\"% Overall Passing\"].map(\"{:.2f}\".format)\n",
    "\n",
    "# Display results\n",
    "type_summary\n"
   ]
  },
  {
   "cell_type": "code",
   "execution_count": null,
   "metadata": {},
   "outputs": [],
   "source": []
  }
 ],
 "metadata": {
  "anaconda-cloud": {},
  "kernel_info": {
   "name": "python3"
  },
  "kernelspec": {
   "display_name": "Python 3 (ipykernel)",
   "language": "python",
   "name": "python3"
  },
  "language_info": {
   "codemirror_mode": {
    "name": "ipython",
    "version": 3
   },
   "file_extension": ".py",
   "mimetype": "text/x-python",
   "name": "python",
   "nbconvert_exporter": "python",
   "pygments_lexer": "ipython3",
   "version": "3.10.10"
  },
  "latex_envs": {
   "LaTeX_envs_menu_present": true,
   "autoclose": false,
   "autocomplete": true,
   "bibliofile": "biblio.bib",
   "cite_by": "apalike",
   "current_citInitial": 1,
   "eqLabelWithNumbers": true,
   "eqNumInitial": 1,
   "hotkeys": {
    "equation": "Ctrl-E",
    "itemize": "Ctrl-I"
   },
   "labels_anchors": false,
   "latex_user_defs": false,
   "report_style_numbering": false,
   "user_envs_cfg": false
  },
  "nteract": {
   "version": "0.8.4"
  },
  "vscode": {
   "interpreter": {
    "hash": "5384d77d82de63fd599f73e77f9ec786e7719288bf80a29ec0288c670ac3cf32"
   }
  }
 },
 "nbformat": 4,
 "nbformat_minor": 4
}
